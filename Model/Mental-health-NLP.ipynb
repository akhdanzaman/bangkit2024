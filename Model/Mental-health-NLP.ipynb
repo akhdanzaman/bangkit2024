{
 "cells": [
  {
   "cell_type": "code",
   "execution_count": 8,
   "metadata": {},
   "outputs": [],
   "source": [
    "#Importing library\n",
    "\n",
    "import tensorflow as tf\n",
    "from tensorflow.keras.preprocessing.text import Tokenizer\n",
    "from tensorflow.keras.preprocessing.sequence import pad_sequences\n",
    "from tensorflow.keras.models import Sequential\n",
    "from tensorflow.keras.layers import Embedding, GlobalAveragePooling1D, Dense\n",
    "import pandas as pd\n",
    "from sklearn.model_selection import train_test_split\n",
    "from sklearn.utils.class_weight import compute_class_weight\n",
    "import numpy as np"
   ]
  },
  {
   "cell_type": "code",
   "execution_count": 9,
   "metadata": {},
   "outputs": [
    {
     "data": {
      "text/html": [
       "<div>\n",
       "<style scoped>\n",
       "    .dataframe tbody tr th:only-of-type {\n",
       "        vertical-align: middle;\n",
       "    }\n",
       "\n",
       "    .dataframe tbody tr th {\n",
       "        vertical-align: top;\n",
       "    }\n",
       "\n",
       "    .dataframe thead th {\n",
       "        text-align: right;\n",
       "    }\n",
       "</style>\n",
       "<table border=\"1\" class=\"dataframe\">\n",
       "  <thead>\n",
       "    <tr style=\"text-align: right;\">\n",
       "      <th></th>\n",
       "      <th>text</th>\n",
       "      <th>label</th>\n",
       "    </tr>\n",
       "  </thead>\n",
       "  <tbody>\n",
       "    <tr>\n",
       "      <th>0</th>\n",
       "      <td>This seroquel withdrawal sucks Problems sleepi...</td>\n",
       "      <td>1</td>\n",
       "    </tr>\n",
       "    <tr>\n",
       "      <th>1</th>\n",
       "      <td>Mental/emotional pain What do you do when you ...</td>\n",
       "      <td>1</td>\n",
       "    </tr>\n",
       "    <tr>\n",
       "      <th>2</th>\n",
       "      <td>Bipolar and different perspectives? Hi everyon...</td>\n",
       "      <td>1</td>\n",
       "    </tr>\n",
       "    <tr>\n",
       "      <th>3</th>\n",
       "      <td>2019 resolution: be S.T.A.B.L.E. Hey friends! ...</td>\n",
       "      <td>1</td>\n",
       "    </tr>\n",
       "    <tr>\n",
       "      <th>4</th>\n",
       "      <td>Enjoy life with this one weird trick. Yes, you...</td>\n",
       "      <td>1</td>\n",
       "    </tr>\n",
       "  </tbody>\n",
       "</table>\n",
       "</div>"
      ],
      "text/plain": [
       "                                                text  label\n",
       "0  This seroquel withdrawal sucks Problems sleepi...      1\n",
       "1  Mental/emotional pain What do you do when you ...      1\n",
       "2  Bipolar and different perspectives? Hi everyon...      1\n",
       "3  2019 resolution: be S.T.A.B.L.E. Hey friends! ...      1\n",
       "4  Enjoy life with this one weird trick. Yes, you...      1"
      ]
     },
     "execution_count": 9,
     "metadata": {},
     "output_type": "execute_result"
    }
   ],
   "source": [
    "# Muat dataset\n",
    "df = pd.read_csv('mental-health2.csv')\n",
    "\n",
    "# Asumsi kolom 'text' berisi kalimat dan 'label' berisi label\n",
    "texts = df['text'].values\n",
    "labels = df['label'].values\n",
    "df.head()"
   ]
  },
  {
   "cell_type": "code",
   "execution_count": 10,
   "metadata": {},
   "outputs": [
    {
     "name": "stdout",
     "output_type": "stream",
     "text": [
      "Class Weights:  {0: 1.8856749311294765, 1: 5.014652014652015, 2: 0.44047619047619047}\n"
     ]
    }
   ],
   "source": [
    "# Calculate class weights\n",
    "class_weights = compute_class_weight(class_weight='balanced', classes=np.unique(labels), y=labels)\n",
    "class_weights_dict = {i: class_weights[i] for i in range(len(class_weights))}\n",
    "\n",
    "print(\"Class Weights: \", class_weights_dict)"
   ]
  },
  {
   "cell_type": "code",
   "execution_count": 11,
   "metadata": {},
   "outputs": [],
   "source": [
    "def weighted_loss(weights):\n",
    "    def loss(y_true, y_pred):\n",
    "        y_true = tf.cast(y_true, tf.int32)\n",
    "        sample_weights = tf.gather(weights, y_true)\n",
    "        unweighted_losses = tf.keras.losses.sparse_categorical_crossentropy(y_true, y_pred)\n",
    "        weighted_losses = unweighted_losses * sample_weights\n",
    "        return tf.reduce_mean(weighted_losses)\n",
    "    return loss"
   ]
  },
  {
   "cell_type": "code",
   "execution_count": 12,
   "metadata": {},
   "outputs": [],
   "source": [
    "# Preprocessing\n",
    "vocab_size = 1000\n",
    "embedding_dim = 16\n",
    "max_length = 20\n",
    "trunc_type = 'post'\n",
    "padding_type = 'post'\n",
    "oov_tok = \"<OOV>\"\n",
    "\n",
    "tokenizer = Tokenizer(num_words=vocab_size, oov_token=oov_tok)\n",
    "tokenizer.fit_on_texts(texts)\n",
    "word_index = tokenizer.word_index\n",
    "sequences = tokenizer.texts_to_sequences(texts)\n",
    "padded = pad_sequences(sequences, maxlen=max_length, padding=padding_type, truncating=trunc_type)\n"
   ]
  },
  {
   "cell_type": "code",
   "execution_count": 13,
   "metadata": {},
   "outputs": [],
   "source": [
    "# Membagi data menjadi training dan testing\n",
    "train_sequences, test_sequences, train_labels, test_labels = train_test_split(padded, labels, test_size=0.2, random_state=42)\n",
    "\n",
    "train_labels = train_labels.astype(int)\n",
    "test_labels = test_labels.astype(int)\n",
    "\n"
   ]
  },
  {
   "cell_type": "code",
   "execution_count": 14,
   "metadata": {},
   "outputs": [
    {
     "name": "stdout",
     "output_type": "stream",
     "text": [
      "WARNING:tensorflow:From c:\\Users\\acer\\anaconda3\\lib\\site-packages\\keras\\src\\backend.py:873: The name tf.get_default_graph is deprecated. Please use tf.compat.v1.get_default_graph instead.\n",
      "\n",
      "WARNING:tensorflow:From c:\\Users\\acer\\anaconda3\\lib\\site-packages\\keras\\src\\optimizers\\__init__.py:309: The name tf.train.Optimizer is deprecated. Please use tf.compat.v1.train.Optimizer instead.\n",
      "\n"
     ]
    }
   ],
   "source": [
    "# Membuat model\n",
    "model = Sequential([\n",
    "    Embedding(vocab_size, embedding_dim, input_length=max_length),\n",
    "    GlobalAveragePooling1D(),\n",
    "    Dense(24, activation='relu'),\n",
    "    Dense(3, activation='softmax')  # 3 kelas untuk depresi, anxiety, dan bipolar\n",
    "])\n",
    "weights = tf.constant(class_weights, dtype=tf.float32)\n",
    "model.compile(loss=weighted_loss(weights), optimizer='adam', metrics=['accuracy'])\n",
    "\n"
   ]
  },
  {
   "cell_type": "code",
   "execution_count": 15,
   "metadata": {},
   "outputs": [
    {
     "name": "stdout",
     "output_type": "stream",
     "text": [
      "Epoch 1/10\n",
      "WARNING:tensorflow:From c:\\Users\\acer\\anaconda3\\lib\\site-packages\\keras\\src\\utils\\tf_utils.py:492: The name tf.ragged.RaggedTensorValue is deprecated. Please use tf.compat.v1.ragged.RaggedTensorValue instead.\n",
      "\n",
      "WARNING:tensorflow:From c:\\Users\\acer\\anaconda3\\lib\\site-packages\\keras\\src\\engine\\base_layer_utils.py:384: The name tf.executing_eagerly_outside_functions is deprecated. Please use tf.compat.v1.executing_eagerly_outside_functions instead.\n",
      "\n",
      "343/343 [==============================] - 1s 2ms/step - loss: 0.7359 - accuracy: 0.7530 - val_loss: 0.6051 - val_accuracy: 0.7652\n",
      "Epoch 2/10\n",
      "343/343 [==============================] - 0s 1ms/step - loss: 0.5096 - accuracy: 0.8076 - val_loss: 0.4643 - val_accuracy: 0.8309\n",
      "Epoch 3/10\n",
      "343/343 [==============================] - 0s 1ms/step - loss: 0.4212 - accuracy: 0.8377 - val_loss: 0.4306 - val_accuracy: 0.8473\n",
      "Epoch 4/10\n",
      "343/343 [==============================] - 0s 1ms/step - loss: 0.3847 - accuracy: 0.8570 - val_loss: 0.4175 - val_accuracy: 0.8499\n",
      "Epoch 5/10\n",
      "343/343 [==============================] - 0s 1ms/step - loss: 0.3612 - accuracy: 0.8676 - val_loss: 0.4125 - val_accuracy: 0.8484\n",
      "Epoch 6/10\n",
      "343/343 [==============================] - 0s 1ms/step - loss: 0.3445 - accuracy: 0.8718 - val_loss: 0.4134 - val_accuracy: 0.8506\n",
      "Epoch 7/10\n",
      "343/343 [==============================] - 0s 1ms/step - loss: 0.3351 - accuracy: 0.8756 - val_loss: 0.4125 - val_accuracy: 0.8495\n",
      "Epoch 8/10\n",
      "343/343 [==============================] - 0s 1ms/step - loss: 0.3254 - accuracy: 0.8782 - val_loss: 0.4180 - val_accuracy: 0.8492\n",
      "Epoch 9/10\n",
      "343/343 [==============================] - 0s 1ms/step - loss: 0.3194 - accuracy: 0.8789 - val_loss: 0.4236 - val_accuracy: 0.8477\n",
      "Epoch 10/10\n",
      "343/343 [==============================] - 0s 1ms/step - loss: 0.3121 - accuracy: 0.8813 - val_loss: 0.4296 - val_accuracy: 0.8477\n"
     ]
    }
   ],
   "source": [
    "# Melatih model\n",
    "num_epochs = 10  \n",
    "history = model.fit(train_sequences, train_labels, epochs=num_epochs, validation_data=(test_sequences, test_labels))\n",
    "\n"
   ]
  },
  {
   "cell_type": "code",
   "execution_count": 16,
   "metadata": {},
   "outputs": [
    {
     "name": "stdout",
     "output_type": "stream",
     "text": [
      "86/86 [==============================] - 0s 841us/step - loss: 0.4296 - accuracy: 0.8477\n",
      "Loss: 0.4295767545700073\n",
      "Accuracy: 0.8476990461349487\n"
     ]
    }
   ],
   "source": [
    "# Evaluasi model\n",
    "loss, accuracy = model.evaluate(test_sequences, test_labels)\n",
    "print(f'Loss: {loss}')\n",
    "print(f'Accuracy: {accuracy}')"
   ]
  },
  {
   "cell_type": "code",
   "execution_count": 52,
   "metadata": {},
   "outputs": [],
   "source": [
    "# Prediksi menggunakan model\n",
    "new_texts = '''diee\n",
    "'''\n",
    "new_sequences = tokenizer.texts_to_sequences(new_texts)\n",
    "new_padded = pad_sequences(new_sequences, maxlen=max_length, padding=padding_type, truncating=trunc_type)\n"
   ]
  },
  {
   "cell_type": "code",
   "execution_count": 53,
   "metadata": {},
   "outputs": [
    {
     "name": "stdout",
     "output_type": "stream",
     "text": [
      "1/1 [==============================] - 0s 18ms/step\n",
      "[[0.43852186 0.0238173  0.5376608 ]\n",
      " [0.45506802 0.01705538 0.5278766 ]\n",
      " [0.43852186 0.0238173  0.5376608 ]\n",
      " [0.43852186 0.0238173  0.5376608 ]\n",
      " [0.47072288 0.01789435 0.51138276]]\n"
     ]
    }
   ],
   "source": [
    "predictions = model.predict(new_padded)\n",
    "print(predictions)  #"
   ]
  },
  {
   "cell_type": "code",
   "execution_count": 47,
   "metadata": {},
   "outputs": [
    {
     "name": "stdout",
     "output_type": "stream",
     "text": [
      "Class 0: 45.51%\n",
      "Class 1: 1.71%\n",
      "Class 2: 52.79%\n",
      "Predicted class: 2\n"
     ]
    }
   ],
   "source": [
    "# Konversi hasil prediksi ke persentase\n",
    "predictions_percent = predictions * 100\n",
    "for i, prediction in enumerate(predictions_percent[0]):\n",
    "    print(f\"Class {i}: {prediction:.2f}%\")\n",
    "\n",
    "# Interpretasi hasil prediksi\n",
    "predicted_class = predictions.argmax(axis=1)\n",
    "print(f'Predicted class: {predicted_class[0]}')"
   ]
  },
  {
   "cell_type": "markdown",
   "metadata": {},
   "source": [
    "Data is imbalance. Bias so high"
   ]
  }
 ],
 "metadata": {
  "kernelspec": {
   "display_name": "base",
   "language": "python",
   "name": "python3"
  },
  "language_info": {
   "codemirror_mode": {
    "name": "ipython",
    "version": 3
   },
   "file_extension": ".py",
   "mimetype": "text/x-python",
   "name": "python",
   "nbconvert_exporter": "python",
   "pygments_lexer": "ipython3",
   "version": "3.9.13"
  }
 },
 "nbformat": 4,
 "nbformat_minor": 2
}
