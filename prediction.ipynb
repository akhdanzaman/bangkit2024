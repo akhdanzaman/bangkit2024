{
 "cells": [
  {
   "cell_type": "code",
   "execution_count": 1,
   "metadata": {},
   "outputs": [
    {
     "name": "stdout",
     "output_type": "stream",
     "text": [
      "WARNING:tensorflow:From c:\\Users\\acer\\anaconda3\\lib\\site-packages\\keras\\src\\losses.py:2976: The name tf.losses.sparse_softmax_cross_entropy is deprecated. Please use tf.compat.v1.losses.sparse_softmax_cross_entropy instead.\n",
      "\n"
     ]
    }
   ],
   "source": [
    "import tensorflow as tf\n",
    "from transformers import BertTokenizer\n",
    "import pandas as pd"
   ]
  },
  {
   "cell_type": "code",
   "execution_count": 16,
   "metadata": {},
   "outputs": [
    {
     "name": "stderr",
     "output_type": "stream",
     "text": [
      "Some layers from the model checkpoint at modelbert were not used when initializing TFBertForSequenceClassification: ['dropout_75']\n",
      "- This IS expected if you are initializing TFBertForSequenceClassification from the checkpoint of a model trained on another task or with another architecture (e.g. initializing a BertForSequenceClassification model from a BertForPreTraining model).\n",
      "- This IS NOT expected if you are initializing TFBertForSequenceClassification from the checkpoint of a model that you expect to be exactly identical (initializing a BertForSequenceClassification model from a BertForSequenceClassification model).\n",
      "All the layers of TFBertForSequenceClassification were initialized from the model checkpoint at modelbert.\n",
      "If your task is similar to the task the model of the checkpoint was trained on, you can already use TFBertForSequenceClassification for predictions without further training.\n",
      "c:\\Users\\acer\\anaconda3\\lib\\site-packages\\huggingface_hub\\file_download.py:1132: FutureWarning: `resume_download` is deprecated and will be removed in version 1.0.0. Downloads always resume when possible. If you want to force a new download, use `force_download=True`.\n",
      "  warnings.warn(\n"
     ]
    }
   ],
   "source": [
    "import tensorflow as tf\n",
    "from transformers import TFAutoModelForSequenceClassification\n",
    "from transformers import BertTokenizer\n",
    "from transformers import AutoModelForSequenceClassification\n",
    "\n",
    "\n",
    "# Muat model dari file .h5\n",
    "model = TFAutoModelForSequenceClassification.from_pretrained(\"modelbert\")\n",
    "# Load the tokenizer\n",
    "tokenizer = BertTokenizer.from_pretrained('bert-base-uncased')\n",
    "\n"
   ]
  },
  {
   "cell_type": "code",
   "execution_count": 32,
   "metadata": {},
   "outputs": [],
   "source": [
    "import numpy as np\n",
    "\n",
    "def predict(new_texts):\n",
    "    # Tokenize the new texts\n",
    "    new_encodings = tokenizer(new_texts, padding=True, truncation=True, max_length=512, return_tensors='tf')\n",
    "\n",
    "    # Make predictions\n",
    "    predictions = model(new_encodings)\n",
    "\n",
    "    # Get probabilities using softmax\n",
    "    probabilities = tf.nn.softmax(predictions.logits, axis=-1).numpy()\n",
    "\n",
    "    # Get predicted labels\n",
    "    predicted_labels = np.argmax(probabilities, axis=1)\n",
    "    \n",
    "    # Print predicted labels and their probabilities\n",
    "    for i, text in enumerate(new_texts):\n",
    "        print(f\"Text: {text}\")\n",
    "        print(f\"Predicted Label: {predicted_labels[i]}\")\n",
    "        print(f\"Probabilities: {probabilities[i]}\")\n",
    "        print(\"-\" * 50)\n",
    "\n",
    "    return predicted_labels, probabilities"
   ]
  },
  {
   "cell_type": "code",
   "execution_count": 33,
   "metadata": {},
   "outputs": [
    {
     "name": "stdout",
     "output_type": "stream",
     "text": [
      "Text: Today I was alone eating in cafetaria. it such a piece moment for myself. But i dont know what to feel. it feel strange yet thrilling being alone in such crowded place\n",
      "Predicted Label: 2\n",
      "Probabilities: [0.01352774 0.07948735 0.90698487]\n",
      "--------------------------------------------------\n"
     ]
    },
    {
     "data": {
      "text/plain": [
       "(array([2], dtype=int64),\n",
       " array([[0.01352774, 0.07948735, 0.90698487]], dtype=float32))"
      ]
     },
     "execution_count": 33,
     "metadata": {},
     "output_type": "execute_result"
    }
   ],
   "source": [
    "new_texts = [\n",
    "    \"Today I was alone eating in cafetaria. it such a piece moment for myself. But i dont know what to feel. it feel strange yet thrilling being alone in such crowded place\"\n",
    "]\n",
    "\n",
    "predict(new_texts)"
   ]
  },
  {
   "cell_type": "code",
   "execution_count": 40,
   "metadata": {},
   "outputs": [
    {
     "name": "stdout",
     "output_type": "stream",
     "text": [
      "Text:  conversation ive recently asked worried would regret continuing university career exchange humble job grocery store inwardly anxious person suddenly stuck fact kept awake night choice come realize note transition previous anxious self accepting confident person realized chosen continue schooling would always regretted opportunity different would felt missed opportunity contrary decision would produced see short year existence subconsciously come understand something nature personal experience view life always wonder possibility unknown always view definite course action le freedom possibility word always chase matter path select long opportunity could benefit could gained done different enter decision understanding every choice extinguish possibility offered choice framework evaluation change drastically instead deciding based best remove regret suffering see choice always produce regret must arise new reason new framework affect decision new method discernment hope hope decision best pursuing college would meant staying parent protection duration study attempt find job brother chose path witnessed restrain ability strike assume total responsibility life remains constrained goal set parent attainment life built upon effort parent least part gave ability go college forfeit joy understanding produced life instead choose hope remember noble struggle see effort struggle hard choice produced good life regret  produced choice stand testament ability take heart aspiration eye seen yield fear truly empowering sight fear master dove lake fear surrounding choice settle emerged unscathed bolstered experience look regret great sea whose tempest seek dissuade fearful fisherman reaching still water bounty caught allow take great responsibility great  failure therein achieve feeling accomplishment suffering fear emotion driving  say behemoth feeding thoughtfulness think life thoroughly uncover disheartening underbelly objective look nature existence produce image suffering suffering lying wait behind every misstep anxious people see possibility negativity le likely disregard genetically inclined focus negative mean safety person think environment might dangerous best get survives unlike person disregard possibility danger becomes lion dinner evolution tailored u anxious mindset still alive gene awoken experience situation disregarded possibility danger ended getting hurt emotionally physically left wondering perfect environment mindset establish something childhood hurt u much developed way assure never happen gave  power control u exchange safety hard regain control especially event traumatic done  told show helpless victim chose take path would filled  give damn would able deter desire limited   lost shunned back dormant home\n",
      "Predicted Label: 0\n",
      "Probabilities: [9.9842608e-01 9.7146229e-04 6.0244434e-04]\n",
      "--------------------------------------------------\n"
     ]
    },
    {
     "data": {
      "text/plain": [
       "(array([0], dtype=int64),\n",
       " array([[9.9842608e-01, 9.7146229e-04, 6.0244434e-04]], dtype=float32))"
      ]
     },
     "execution_count": 40,
     "metadata": {},
     "output_type": "execute_result"
    }
   ],
   "source": [
    "coba2 = [\n",
    "    \" conversation ive recently asked worried would regret continuing university career exchange humble job grocery store inwardly anxious person suddenly stuck fact kept awake night choice come realize note transition previous anxious self accepting confident person realized chosen continue schooling would always regretted opportunity different would felt missed opportunity contrary decision would produced see short year existence subconsciously come understand something nature personal experience view life always wonder possibility unknown always view definite course action le freedom possibility word always chase matter path select long opportunity could benefit could gained done different enter decision understanding every choice extinguish possibility offered choice framework evaluation change drastically instead deciding based best remove regret suffering see choice always produce regret must arise new reason new framework affect decision new method discernment hope hope decision best pursuing college would meant staying parent protection duration study attempt find job brother chose path witnessed restrain ability strike assume total responsibility life remains constrained goal set parent attainment life built upon effort parent least part gave ability go college forfeit joy understanding produced life instead choose hope remember noble struggle see effort struggle hard choice produced good life regret  produced choice stand testament ability take heart aspiration eye seen yield fear truly empowering sight fear master dove lake fear surrounding choice settle emerged unscathed bolstered experience look regret great sea whose tempest seek dissuade fearful fisherman reaching still water bounty caught allow take great responsibility great  failure therein achieve feeling accomplishment suffering fear emotion driving  say behemoth feeding thoughtfulness think life thoroughly uncover disheartening underbelly objective look nature existence produce image suffering suffering lying wait behind every misstep anxious people see possibility negativity le likely disregard genetically inclined focus negative mean safety person think environment might dangerous best get survives unlike person disregard possibility danger becomes lion dinner evolution tailored u anxious mindset still alive gene awoken experience situation disregarded possibility danger ended getting hurt emotionally physically left wondering perfect environment mindset establish something childhood hurt u much developed way assure never happen gave  power control u exchange safety hard regain control especially event traumatic done  told show helpless victim chose take path would filled  give damn would able deter desire limited   lost shunned back dormant home\"\n",
    "]\n",
    "\n",
    "predict(coba2)"
   ]
  },
  {
   "cell_type": "code",
   "execution_count": 45,
   "metadata": {},
   "outputs": [
    {
     "name": "stdout",
     "output_type": "stream",
     "text": [
      "Text: The quiet of the night offers no solace, as my mind races with a million scenarios, each more catastrophic than the last, leaving me trapped in a cycle of worry and restlessness..\n",
      "Predicted Label: 0\n",
      "Probabilities: [0.876691   0.0981718  0.02513717]\n",
      "--------------------------------------------------\n"
     ]
    },
    {
     "data": {
      "text/plain": [
       "(array([0], dtype=int64),\n",
       " array([[0.876691  , 0.0981718 , 0.02513717]], dtype=float32))"
      ]
     },
     "execution_count": 45,
     "metadata": {},
     "output_type": "execute_result"
    }
   ],
   "source": [
    "aaa = [\"The quiet of the night offers no solace, as my mind races with a million scenarios, each more catastrophic than the last, leaving me trapped in a cycle of worry and restlessness..\"]\n",
    "predict(aaa)"
   ]
  }
 ],
 "metadata": {
  "kernelspec": {
   "display_name": "base",
   "language": "python",
   "name": "python3"
  },
  "language_info": {
   "codemirror_mode": {
    "name": "ipython",
    "version": 3
   },
   "file_extension": ".py",
   "mimetype": "text/x-python",
   "name": "python",
   "nbconvert_exporter": "python",
   "pygments_lexer": "ipython3",
   "version": "3.9.13"
  }
 },
 "nbformat": 4,
 "nbformat_minor": 2
}
